{
  "nbformat": 4,
  "nbformat_minor": 0,
  "metadata": {
    "colab": {
      "provenance": [],
      "gpuType": "T4",
      "authorship_tag": "ABX9TyP+6f9QDbpLtxbLf1B3a1UW",
      "include_colab_link": true
    },
    "kernelspec": {
      "name": "python3",
      "display_name": "Python 3"
    },
    "language_info": {
      "name": "python"
    },
    "accelerator": "GPU"
  },
  "cells": [
    {
      "cell_type": "markdown",
      "metadata": {
        "id": "view-in-github",
        "colab_type": "text"
      },
      "source": [
        "<a href=\"https://colab.research.google.com/github/nguyenhaphan1/StockPricePredictionWithLSTM/blob/main/StockPriceFluctuationCalculating.ipynb\" target=\"_parent\"><img src=\"https://colab.research.google.com/assets/colab-badge.svg\" alt=\"Open In Colab\"/></a>"
      ]
    },
    {
      "cell_type": "code",
      "execution_count": null,
      "metadata": {
        "colab": {
          "base_uri": "https://localhost:8080/"
        },
        "id": "-2U_PSUPjXGu",
        "outputId": "db6a4905-7c42-41bb-8d57-78c27cf64909"
      },
      "outputs": [
        {
          "output_type": "stream",
          "name": "stdout",
          "text": [
            "Mounted at /content/drive/\n"
          ]
        }
      ],
      "source": [
        "#Kết nối colab với ggdrive\n",
        "from google.colab import drive\n",
        "drive.mount('/content/drive/')"
      ]
    },
    {
      "cell_type": "code",
      "source": [
        "import pandas as pd\n",
        "import matplotlib.pyplot as plt\n",
        "import seaborn as sns\n",
        "import os\n",
        "import numpy as np\n",
        "import math\n",
        "from sklearn.model_selection import train_test_split\n",
        "from tensorflow.keras.models import Sequential\n",
        "from tensorflow.keras.layers import Dense, LSTM, Dropout\n",
        "from tensorflow import keras\n",
        "from sklearn import preprocessing\n",
        "from sklearn.metrics import mean_squared_error"
      ],
      "metadata": {
        "id": "5SrI9lO1nWX3"
      },
      "execution_count": null,
      "outputs": []
    },
    {
      "cell_type": "markdown",
      "source": [
        "# 1. **Data preparing and processing** 😧  A. FPT quantitative trading record"
      ],
      "metadata": {
        "id": "wC2SP67yNZnE"
      }
    },
    {
      "cell_type": "code",
      "source": [
        "%cd \"/content/drive/MyDrive/QuantPredict\"\n",
        "# Read data and view five head rows\n",
        "df = pd.read_csv('FPT.csv')\n",
        "df.head()"
      ],
      "metadata": {
        "colab": {
          "base_uri": "https://localhost:8080/",
          "height": 223
        },
        "id": "rP-dAHIvoJG-",
        "outputId": "af441002-b24a-4438-e6e9-b891a6393398"
      },
      "execution_count": null,
      "outputs": [
        {
          "output_type": "stream",
          "name": "stdout",
          "text": [
            "/content/drive/MyDrive/QuantPredict\n"
          ]
        },
        {
          "output_type": "execute_result",
          "data": {
            "text/plain": [
              "  Ticker        Date/Time   Open   High    Low  Close  Volume  Open Interest\n",
              "0    FPT  12/25/2018 9:15  30.89  30.89  30.89  30.89   35410              0\n",
              "1    FPT  12/25/2018 9:16  30.81  30.81  30.81  30.81     190              0\n",
              "2    FPT  12/25/2018 9:17  30.74  30.81  30.74  30.74    1120              0\n",
              "3    FPT  12/25/2018 9:18  30.74  30.74  30.74  30.74    2120              0\n",
              "4    FPT  12/25/2018 9:19  30.74  30.74  30.74  30.74   22500              0"
            ],
            "text/html": [
              "\n",
              "  <div id=\"df-1e5efbd0-a01f-450f-90c0-ef7ee2dd151c\" class=\"colab-df-container\">\n",
              "    <div>\n",
              "<style scoped>\n",
              "    .dataframe tbody tr th:only-of-type {\n",
              "        vertical-align: middle;\n",
              "    }\n",
              "\n",
              "    .dataframe tbody tr th {\n",
              "        vertical-align: top;\n",
              "    }\n",
              "\n",
              "    .dataframe thead th {\n",
              "        text-align: right;\n",
              "    }\n",
              "</style>\n",
              "<table border=\"1\" class=\"dataframe\">\n",
              "  <thead>\n",
              "    <tr style=\"text-align: right;\">\n",
              "      <th></th>\n",
              "      <th>Ticker</th>\n",
              "      <th>Date/Time</th>\n",
              "      <th>Open</th>\n",
              "      <th>High</th>\n",
              "      <th>Low</th>\n",
              "      <th>Close</th>\n",
              "      <th>Volume</th>\n",
              "      <th>Open Interest</th>\n",
              "    </tr>\n",
              "  </thead>\n",
              "  <tbody>\n",
              "    <tr>\n",
              "      <th>0</th>\n",
              "      <td>FPT</td>\n",
              "      <td>12/25/2018 9:15</td>\n",
              "      <td>30.89</td>\n",
              "      <td>30.89</td>\n",
              "      <td>30.89</td>\n",
              "      <td>30.89</td>\n",
              "      <td>35410</td>\n",
              "      <td>0</td>\n",
              "    </tr>\n",
              "    <tr>\n",
              "      <th>1</th>\n",
              "      <td>FPT</td>\n",
              "      <td>12/25/2018 9:16</td>\n",
              "      <td>30.81</td>\n",
              "      <td>30.81</td>\n",
              "      <td>30.81</td>\n",
              "      <td>30.81</td>\n",
              "      <td>190</td>\n",
              "      <td>0</td>\n",
              "    </tr>\n",
              "    <tr>\n",
              "      <th>2</th>\n",
              "      <td>FPT</td>\n",
              "      <td>12/25/2018 9:17</td>\n",
              "      <td>30.74</td>\n",
              "      <td>30.81</td>\n",
              "      <td>30.74</td>\n",
              "      <td>30.74</td>\n",
              "      <td>1120</td>\n",
              "      <td>0</td>\n",
              "    </tr>\n",
              "    <tr>\n",
              "      <th>3</th>\n",
              "      <td>FPT</td>\n",
              "      <td>12/25/2018 9:18</td>\n",
              "      <td>30.74</td>\n",
              "      <td>30.74</td>\n",
              "      <td>30.74</td>\n",
              "      <td>30.74</td>\n",
              "      <td>2120</td>\n",
              "      <td>0</td>\n",
              "    </tr>\n",
              "    <tr>\n",
              "      <th>4</th>\n",
              "      <td>FPT</td>\n",
              "      <td>12/25/2018 9:19</td>\n",
              "      <td>30.74</td>\n",
              "      <td>30.74</td>\n",
              "      <td>30.74</td>\n",
              "      <td>30.74</td>\n",
              "      <td>22500</td>\n",
              "      <td>0</td>\n",
              "    </tr>\n",
              "  </tbody>\n",
              "</table>\n",
              "</div>\n",
              "    <div class=\"colab-df-buttons\">\n",
              "\n",
              "  <div class=\"colab-df-container\">\n",
              "    <button class=\"colab-df-convert\" onclick=\"convertToInteractive('df-1e5efbd0-a01f-450f-90c0-ef7ee2dd151c')\"\n",
              "            title=\"Convert this dataframe to an interactive table.\"\n",
              "            style=\"display:none;\">\n",
              "\n",
              "  <svg xmlns=\"http://www.w3.org/2000/svg\" height=\"24px\" viewBox=\"0 -960 960 960\">\n",
              "    <path d=\"M120-120v-720h720v720H120Zm60-500h600v-160H180v160Zm220 220h160v-160H400v160Zm0 220h160v-160H400v160ZM180-400h160v-160H180v160Zm440 0h160v-160H620v160ZM180-180h160v-160H180v160Zm440 0h160v-160H620v160Z\"/>\n",
              "  </svg>\n",
              "    </button>\n",
              "\n",
              "  <style>\n",
              "    .colab-df-container {\n",
              "      display:flex;\n",
              "      gap: 12px;\n",
              "    }\n",
              "\n",
              "    .colab-df-convert {\n",
              "      background-color: #E8F0FE;\n",
              "      border: none;\n",
              "      border-radius: 50%;\n",
              "      cursor: pointer;\n",
              "      display: none;\n",
              "      fill: #1967D2;\n",
              "      height: 32px;\n",
              "      padding: 0 0 0 0;\n",
              "      width: 32px;\n",
              "    }\n",
              "\n",
              "    .colab-df-convert:hover {\n",
              "      background-color: #E2EBFA;\n",
              "      box-shadow: 0px 1px 2px rgba(60, 64, 67, 0.3), 0px 1px 3px 1px rgba(60, 64, 67, 0.15);\n",
              "      fill: #174EA6;\n",
              "    }\n",
              "\n",
              "    .colab-df-buttons div {\n",
              "      margin-bottom: 4px;\n",
              "    }\n",
              "\n",
              "    [theme=dark] .colab-df-convert {\n",
              "      background-color: #3B4455;\n",
              "      fill: #D2E3FC;\n",
              "    }\n",
              "\n",
              "    [theme=dark] .colab-df-convert:hover {\n",
              "      background-color: #434B5C;\n",
              "      box-shadow: 0px 1px 3px 1px rgba(0, 0, 0, 0.15);\n",
              "      filter: drop-shadow(0px 1px 2px rgba(0, 0, 0, 0.3));\n",
              "      fill: #FFFFFF;\n",
              "    }\n",
              "  </style>\n",
              "\n",
              "    <script>\n",
              "      const buttonEl =\n",
              "        document.querySelector('#df-1e5efbd0-a01f-450f-90c0-ef7ee2dd151c button.colab-df-convert');\n",
              "      buttonEl.style.display =\n",
              "        google.colab.kernel.accessAllowed ? 'block' : 'none';\n",
              "\n",
              "      async function convertToInteractive(key) {\n",
              "        const element = document.querySelector('#df-1e5efbd0-a01f-450f-90c0-ef7ee2dd151c');\n",
              "        const dataTable =\n",
              "          await google.colab.kernel.invokeFunction('convertToInteractive',\n",
              "                                                    [key], {});\n",
              "        if (!dataTable) return;\n",
              "\n",
              "        const docLinkHtml = 'Like what you see? Visit the ' +\n",
              "          '<a target=\"_blank\" href=https://colab.research.google.com/notebooks/data_table.ipynb>data table notebook</a>'\n",
              "          + ' to learn more about interactive tables.';\n",
              "        element.innerHTML = '';\n",
              "        dataTable['output_type'] = 'display_data';\n",
              "        await google.colab.output.renderOutput(dataTable, element);\n",
              "        const docLink = document.createElement('div');\n",
              "        docLink.innerHTML = docLinkHtml;\n",
              "        element.appendChild(docLink);\n",
              "      }\n",
              "    </script>\n",
              "  </div>\n",
              "\n",
              "\n",
              "<div id=\"df-11024116-08a0-4377-9018-d25f8768d70a\">\n",
              "  <button class=\"colab-df-quickchart\" onclick=\"quickchart('df-11024116-08a0-4377-9018-d25f8768d70a')\"\n",
              "            title=\"Suggest charts\"\n",
              "            style=\"display:none;\">\n",
              "\n",
              "<svg xmlns=\"http://www.w3.org/2000/svg\" height=\"24px\"viewBox=\"0 0 24 24\"\n",
              "     width=\"24px\">\n",
              "    <g>\n",
              "        <path d=\"M19 3H5c-1.1 0-2 .9-2 2v14c0 1.1.9 2 2 2h14c1.1 0 2-.9 2-2V5c0-1.1-.9-2-2-2zM9 17H7v-7h2v7zm4 0h-2V7h2v10zm4 0h-2v-4h2v4z\"/>\n",
              "    </g>\n",
              "</svg>\n",
              "  </button>\n",
              "\n",
              "<style>\n",
              "  .colab-df-quickchart {\n",
              "      --bg-color: #E8F0FE;\n",
              "      --fill-color: #1967D2;\n",
              "      --hover-bg-color: #E2EBFA;\n",
              "      --hover-fill-color: #174EA6;\n",
              "      --disabled-fill-color: #AAA;\n",
              "      --disabled-bg-color: #DDD;\n",
              "  }\n",
              "\n",
              "  [theme=dark] .colab-df-quickchart {\n",
              "      --bg-color: #3B4455;\n",
              "      --fill-color: #D2E3FC;\n",
              "      --hover-bg-color: #434B5C;\n",
              "      --hover-fill-color: #FFFFFF;\n",
              "      --disabled-bg-color: #3B4455;\n",
              "      --disabled-fill-color: #666;\n",
              "  }\n",
              "\n",
              "  .colab-df-quickchart {\n",
              "    background-color: var(--bg-color);\n",
              "    border: none;\n",
              "    border-radius: 50%;\n",
              "    cursor: pointer;\n",
              "    display: none;\n",
              "    fill: var(--fill-color);\n",
              "    height: 32px;\n",
              "    padding: 0;\n",
              "    width: 32px;\n",
              "  }\n",
              "\n",
              "  .colab-df-quickchart:hover {\n",
              "    background-color: var(--hover-bg-color);\n",
              "    box-shadow: 0 1px 2px rgba(60, 64, 67, 0.3), 0 1px 3px 1px rgba(60, 64, 67, 0.15);\n",
              "    fill: var(--button-hover-fill-color);\n",
              "  }\n",
              "\n",
              "  .colab-df-quickchart-complete:disabled,\n",
              "  .colab-df-quickchart-complete:disabled:hover {\n",
              "    background-color: var(--disabled-bg-color);\n",
              "    fill: var(--disabled-fill-color);\n",
              "    box-shadow: none;\n",
              "  }\n",
              "\n",
              "  .colab-df-spinner {\n",
              "    border: 2px solid var(--fill-color);\n",
              "    border-color: transparent;\n",
              "    border-bottom-color: var(--fill-color);\n",
              "    animation:\n",
              "      spin 1s steps(1) infinite;\n",
              "  }\n",
              "\n",
              "  @keyframes spin {\n",
              "    0% {\n",
              "      border-color: transparent;\n",
              "      border-bottom-color: var(--fill-color);\n",
              "      border-left-color: var(--fill-color);\n",
              "    }\n",
              "    20% {\n",
              "      border-color: transparent;\n",
              "      border-left-color: var(--fill-color);\n",
              "      border-top-color: var(--fill-color);\n",
              "    }\n",
              "    30% {\n",
              "      border-color: transparent;\n",
              "      border-left-color: var(--fill-color);\n",
              "      border-top-color: var(--fill-color);\n",
              "      border-right-color: var(--fill-color);\n",
              "    }\n",
              "    40% {\n",
              "      border-color: transparent;\n",
              "      border-right-color: var(--fill-color);\n",
              "      border-top-color: var(--fill-color);\n",
              "    }\n",
              "    60% {\n",
              "      border-color: transparent;\n",
              "      border-right-color: var(--fill-color);\n",
              "    }\n",
              "    80% {\n",
              "      border-color: transparent;\n",
              "      border-right-color: var(--fill-color);\n",
              "      border-bottom-color: var(--fill-color);\n",
              "    }\n",
              "    90% {\n",
              "      border-color: transparent;\n",
              "      border-bottom-color: var(--fill-color);\n",
              "    }\n",
              "  }\n",
              "</style>\n",
              "\n",
              "  <script>\n",
              "    async function quickchart(key) {\n",
              "      const quickchartButtonEl =\n",
              "        document.querySelector('#' + key + ' button');\n",
              "      quickchartButtonEl.disabled = true;  // To prevent multiple clicks.\n",
              "      quickchartButtonEl.classList.add('colab-df-spinner');\n",
              "      try {\n",
              "        const charts = await google.colab.kernel.invokeFunction(\n",
              "            'suggestCharts', [key], {});\n",
              "      } catch (error) {\n",
              "        console.error('Error during call to suggestCharts:', error);\n",
              "      }\n",
              "      quickchartButtonEl.classList.remove('colab-df-spinner');\n",
              "      quickchartButtonEl.classList.add('colab-df-quickchart-complete');\n",
              "    }\n",
              "    (() => {\n",
              "      let quickchartButtonEl =\n",
              "        document.querySelector('#df-11024116-08a0-4377-9018-d25f8768d70a button');\n",
              "      quickchartButtonEl.style.display =\n",
              "        google.colab.kernel.accessAllowed ? 'block' : 'none';\n",
              "    })();\n",
              "  </script>\n",
              "</div>\n",
              "\n",
              "    </div>\n",
              "  </div>\n"
            ],
            "application/vnd.google.colaboratory.intrinsic+json": {
              "type": "dataframe",
              "variable_name": "df",
              "summary": "{\n  \"name\": \"df\",\n  \"rows\": 97406,\n  \"fields\": [\n    {\n      \"column\": \"Ticker\",\n      \"properties\": {\n        \"dtype\": \"category\",\n        \"num_unique_values\": 1,\n        \"samples\": [\n          \"FPT\"\n        ],\n        \"semantic_type\": \"\",\n        \"description\": \"\"\n      }\n    },\n    {\n      \"column\": \"Date/Time\",\n      \"properties\": {\n        \"dtype\": \"object\",\n        \"num_unique_values\": 97406,\n        \"samples\": [\n          \"9/16/2020 13:28\"\n        ],\n        \"semantic_type\": \"\",\n        \"description\": \"\"\n      }\n    },\n    {\n      \"column\": \"Open\",\n      \"properties\": {\n        \"dtype\": \"number\",\n        \"std\": 6.35980305876542,\n        \"min\": 30.25,\n        \"max\": 58.4,\n        \"num_unique_values\": 802,\n        \"samples\": [\n          37.68\n        ],\n        \"semantic_type\": \"\",\n        \"description\": \"\"\n      }\n    },\n    {\n      \"column\": \"High\",\n      \"properties\": {\n        \"dtype\": \"number\",\n        \"std\": 6.364950227706257,\n        \"min\": 30.25,\n        \"max\": 58.5,\n        \"num_unique_values\": 800,\n        \"samples\": [\n          45.35\n        ],\n        \"semantic_type\": \"\",\n        \"description\": \"\"\n      }\n    },\n    {\n      \"column\": \"Low\",\n      \"properties\": {\n        \"dtype\": \"number\",\n        \"std\": 6.354245483598624,\n        \"min\": 30.22,\n        \"max\": 58.4,\n        \"num_unique_values\": 802,\n        \"samples\": [\n          37.75\n        ],\n        \"semantic_type\": \"\",\n        \"description\": \"\"\n      }\n    },\n    {\n      \"column\": \"Close\",\n      \"properties\": {\n        \"dtype\": \"number\",\n        \"std\": 6.359798823149514,\n        \"min\": 30.25,\n        \"max\": 58.4,\n        \"num_unique_values\": 802,\n        \"samples\": [\n          37.75\n        ],\n        \"semantic_type\": \"\",\n        \"description\": \"\"\n      }\n    },\n    {\n      \"column\": \"Volume\",\n      \"properties\": {\n        \"dtype\": \"number\",\n        \"std\": 17532,\n        \"min\": 10,\n        \"max\": 1255930,\n        \"num_unique_values\": 6221,\n        \"samples\": [\n          46050\n        ],\n        \"semantic_type\": \"\",\n        \"description\": \"\"\n      }\n    },\n    {\n      \"column\": \"Open Interest\",\n      \"properties\": {\n        \"dtype\": \"number\",\n        \"std\": 0,\n        \"min\": 0,\n        \"max\": 0,\n        \"num_unique_values\": 1,\n        \"samples\": [\n          0\n        ],\n        \"semantic_type\": \"\",\n        \"description\": \"\"\n      }\n    }\n  ]\n}"
            }
          },
          "metadata": {},
          "execution_count": 3
        }
      ]
    },
    {
      "cell_type": "code",
      "source": [
        "df.info()"
      ],
      "metadata": {
        "colab": {
          "base_uri": "https://localhost:8080/"
        },
        "id": "oqUF2VAkowi6",
        "outputId": "254a12ad-90b3-4c20-a1b0-380f1bf0c9d5"
      },
      "execution_count": null,
      "outputs": [
        {
          "output_type": "stream",
          "name": "stdout",
          "text": [
            "<class 'pandas.core.frame.DataFrame'>\n",
            "RangeIndex: 97406 entries, 0 to 97405\n",
            "Data columns (total 8 columns):\n",
            " #   Column         Non-Null Count  Dtype  \n",
            "---  ------         --------------  -----  \n",
            " 0   Ticker         97406 non-null  object \n",
            " 1   Date/Time      97406 non-null  object \n",
            " 2   Open           97406 non-null  float64\n",
            " 3   High           97406 non-null  float64\n",
            " 4   Low            97406 non-null  float64\n",
            " 5   Close          97406 non-null  float64\n",
            " 6   Volume         97406 non-null  int64  \n",
            " 7   Open Interest  97406 non-null  int64  \n",
            "dtypes: float64(4), int64(2), object(2)\n",
            "memory usage: 5.9+ MB\n"
          ]
        }
      ]
    },
    {
      "cell_type": "code",
      "source": [
        "df_quant = pd.DataFrame(df, columns = ['Date/Time', 'Close']) # Sử dụng 2 attributes là Date/Time và Close price để tính\n",
        "df_quant.index = df_quant['Date/Time'] # Chuyển Date/Time thành index cho dễ thao tác hơn\n",
        "df_quant = df_quant.drop(['Date/Time'], axis=1)\n",
        "df_quant.head()"
      ],
      "metadata": {
        "colab": {
          "base_uri": "https://localhost:8080/",
          "height": 237
        },
        "id": "0fuR2nHiqJAd",
        "outputId": "72f2e40e-0363-4606-9c2c-5e9f2c8bd4a2"
      },
      "execution_count": null,
      "outputs": [
        {
          "output_type": "execute_result",
          "data": {
            "text/plain": [
              "                 Close\n",
              "Date/Time             \n",
              "12/25/2018 9:15  30.89\n",
              "12/25/2018 9:16  30.81\n",
              "12/25/2018 9:17  30.74\n",
              "12/25/2018 9:18  30.74\n",
              "12/25/2018 9:19  30.74"
            ],
            "text/html": [
              "\n",
              "  <div id=\"df-b3c2bd69-a923-4630-aa67-1ac3278a235e\" class=\"colab-df-container\">\n",
              "    <div>\n",
              "<style scoped>\n",
              "    .dataframe tbody tr th:only-of-type {\n",
              "        vertical-align: middle;\n",
              "    }\n",
              "\n",
              "    .dataframe tbody tr th {\n",
              "        vertical-align: top;\n",
              "    }\n",
              "\n",
              "    .dataframe thead th {\n",
              "        text-align: right;\n",
              "    }\n",
              "</style>\n",
              "<table border=\"1\" class=\"dataframe\">\n",
              "  <thead>\n",
              "    <tr style=\"text-align: right;\">\n",
              "      <th></th>\n",
              "      <th>Close</th>\n",
              "    </tr>\n",
              "    <tr>\n",
              "      <th>Date/Time</th>\n",
              "      <th></th>\n",
              "    </tr>\n",
              "  </thead>\n",
              "  <tbody>\n",
              "    <tr>\n",
              "      <th>12/25/2018 9:15</th>\n",
              "      <td>30.89</td>\n",
              "    </tr>\n",
              "    <tr>\n",
              "      <th>12/25/2018 9:16</th>\n",
              "      <td>30.81</td>\n",
              "    </tr>\n",
              "    <tr>\n",
              "      <th>12/25/2018 9:17</th>\n",
              "      <td>30.74</td>\n",
              "    </tr>\n",
              "    <tr>\n",
              "      <th>12/25/2018 9:18</th>\n",
              "      <td>30.74</td>\n",
              "    </tr>\n",
              "    <tr>\n",
              "      <th>12/25/2018 9:19</th>\n",
              "      <td>30.74</td>\n",
              "    </tr>\n",
              "  </tbody>\n",
              "</table>\n",
              "</div>\n",
              "    <div class=\"colab-df-buttons\">\n",
              "\n",
              "  <div class=\"colab-df-container\">\n",
              "    <button class=\"colab-df-convert\" onclick=\"convertToInteractive('df-b3c2bd69-a923-4630-aa67-1ac3278a235e')\"\n",
              "            title=\"Convert this dataframe to an interactive table.\"\n",
              "            style=\"display:none;\">\n",
              "\n",
              "  <svg xmlns=\"http://www.w3.org/2000/svg\" height=\"24px\" viewBox=\"0 -960 960 960\">\n",
              "    <path d=\"M120-120v-720h720v720H120Zm60-500h600v-160H180v160Zm220 220h160v-160H400v160Zm0 220h160v-160H400v160ZM180-400h160v-160H180v160Zm440 0h160v-160H620v160ZM180-180h160v-160H180v160Zm440 0h160v-160H620v160Z\"/>\n",
              "  </svg>\n",
              "    </button>\n",
              "\n",
              "  <style>\n",
              "    .colab-df-container {\n",
              "      display:flex;\n",
              "      gap: 12px;\n",
              "    }\n",
              "\n",
              "    .colab-df-convert {\n",
              "      background-color: #E8F0FE;\n",
              "      border: none;\n",
              "      border-radius: 50%;\n",
              "      cursor: pointer;\n",
              "      display: none;\n",
              "      fill: #1967D2;\n",
              "      height: 32px;\n",
              "      padding: 0 0 0 0;\n",
              "      width: 32px;\n",
              "    }\n",
              "\n",
              "    .colab-df-convert:hover {\n",
              "      background-color: #E2EBFA;\n",
              "      box-shadow: 0px 1px 2px rgba(60, 64, 67, 0.3), 0px 1px 3px 1px rgba(60, 64, 67, 0.15);\n",
              "      fill: #174EA6;\n",
              "    }\n",
              "\n",
              "    .colab-df-buttons div {\n",
              "      margin-bottom: 4px;\n",
              "    }\n",
              "\n",
              "    [theme=dark] .colab-df-convert {\n",
              "      background-color: #3B4455;\n",
              "      fill: #D2E3FC;\n",
              "    }\n",
              "\n",
              "    [theme=dark] .colab-df-convert:hover {\n",
              "      background-color: #434B5C;\n",
              "      box-shadow: 0px 1px 3px 1px rgba(0, 0, 0, 0.15);\n",
              "      filter: drop-shadow(0px 1px 2px rgba(0, 0, 0, 0.3));\n",
              "      fill: #FFFFFF;\n",
              "    }\n",
              "  </style>\n",
              "\n",
              "    <script>\n",
              "      const buttonEl =\n",
              "        document.querySelector('#df-b3c2bd69-a923-4630-aa67-1ac3278a235e button.colab-df-convert');\n",
              "      buttonEl.style.display =\n",
              "        google.colab.kernel.accessAllowed ? 'block' : 'none';\n",
              "\n",
              "      async function convertToInteractive(key) {\n",
              "        const element = document.querySelector('#df-b3c2bd69-a923-4630-aa67-1ac3278a235e');\n",
              "        const dataTable =\n",
              "          await google.colab.kernel.invokeFunction('convertToInteractive',\n",
              "                                                    [key], {});\n",
              "        if (!dataTable) return;\n",
              "\n",
              "        const docLinkHtml = 'Like what you see? Visit the ' +\n",
              "          '<a target=\"_blank\" href=https://colab.research.google.com/notebooks/data_table.ipynb>data table notebook</a>'\n",
              "          + ' to learn more about interactive tables.';\n",
              "        element.innerHTML = '';\n",
              "        dataTable['output_type'] = 'display_data';\n",
              "        await google.colab.output.renderOutput(dataTable, element);\n",
              "        const docLink = document.createElement('div');\n",
              "        docLink.innerHTML = docLinkHtml;\n",
              "        element.appendChild(docLink);\n",
              "      }\n",
              "    </script>\n",
              "  </div>\n",
              "\n",
              "\n",
              "<div id=\"df-f8baa6b2-38de-4b45-a65f-dc36c0387f8c\">\n",
              "  <button class=\"colab-df-quickchart\" onclick=\"quickchart('df-f8baa6b2-38de-4b45-a65f-dc36c0387f8c')\"\n",
              "            title=\"Suggest charts\"\n",
              "            style=\"display:none;\">\n",
              "\n",
              "<svg xmlns=\"http://www.w3.org/2000/svg\" height=\"24px\"viewBox=\"0 0 24 24\"\n",
              "     width=\"24px\">\n",
              "    <g>\n",
              "        <path d=\"M19 3H5c-1.1 0-2 .9-2 2v14c0 1.1.9 2 2 2h14c1.1 0 2-.9 2-2V5c0-1.1-.9-2-2-2zM9 17H7v-7h2v7zm4 0h-2V7h2v10zm4 0h-2v-4h2v4z\"/>\n",
              "    </g>\n",
              "</svg>\n",
              "  </button>\n",
              "\n",
              "<style>\n",
              "  .colab-df-quickchart {\n",
              "      --bg-color: #E8F0FE;\n",
              "      --fill-color: #1967D2;\n",
              "      --hover-bg-color: #E2EBFA;\n",
              "      --hover-fill-color: #174EA6;\n",
              "      --disabled-fill-color: #AAA;\n",
              "      --disabled-bg-color: #DDD;\n",
              "  }\n",
              "\n",
              "  [theme=dark] .colab-df-quickchart {\n",
              "      --bg-color: #3B4455;\n",
              "      --fill-color: #D2E3FC;\n",
              "      --hover-bg-color: #434B5C;\n",
              "      --hover-fill-color: #FFFFFF;\n",
              "      --disabled-bg-color: #3B4455;\n",
              "      --disabled-fill-color: #666;\n",
              "  }\n",
              "\n",
              "  .colab-df-quickchart {\n",
              "    background-color: var(--bg-color);\n",
              "    border: none;\n",
              "    border-radius: 50%;\n",
              "    cursor: pointer;\n",
              "    display: none;\n",
              "    fill: var(--fill-color);\n",
              "    height: 32px;\n",
              "    padding: 0;\n",
              "    width: 32px;\n",
              "  }\n",
              "\n",
              "  .colab-df-quickchart:hover {\n",
              "    background-color: var(--hover-bg-color);\n",
              "    box-shadow: 0 1px 2px rgba(60, 64, 67, 0.3), 0 1px 3px 1px rgba(60, 64, 67, 0.15);\n",
              "    fill: var(--button-hover-fill-color);\n",
              "  }\n",
              "\n",
              "  .colab-df-quickchart-complete:disabled,\n",
              "  .colab-df-quickchart-complete:disabled:hover {\n",
              "    background-color: var(--disabled-bg-color);\n",
              "    fill: var(--disabled-fill-color);\n",
              "    box-shadow: none;\n",
              "  }\n",
              "\n",
              "  .colab-df-spinner {\n",
              "    border: 2px solid var(--fill-color);\n",
              "    border-color: transparent;\n",
              "    border-bottom-color: var(--fill-color);\n",
              "    animation:\n",
              "      spin 1s steps(1) infinite;\n",
              "  }\n",
              "\n",
              "  @keyframes spin {\n",
              "    0% {\n",
              "      border-color: transparent;\n",
              "      border-bottom-color: var(--fill-color);\n",
              "      border-left-color: var(--fill-color);\n",
              "    }\n",
              "    20% {\n",
              "      border-color: transparent;\n",
              "      border-left-color: var(--fill-color);\n",
              "      border-top-color: var(--fill-color);\n",
              "    }\n",
              "    30% {\n",
              "      border-color: transparent;\n",
              "      border-left-color: var(--fill-color);\n",
              "      border-top-color: var(--fill-color);\n",
              "      border-right-color: var(--fill-color);\n",
              "    }\n",
              "    40% {\n",
              "      border-color: transparent;\n",
              "      border-right-color: var(--fill-color);\n",
              "      border-top-color: var(--fill-color);\n",
              "    }\n",
              "    60% {\n",
              "      border-color: transparent;\n",
              "      border-right-color: var(--fill-color);\n",
              "    }\n",
              "    80% {\n",
              "      border-color: transparent;\n",
              "      border-right-color: var(--fill-color);\n",
              "      border-bottom-color: var(--fill-color);\n",
              "    }\n",
              "    90% {\n",
              "      border-color: transparent;\n",
              "      border-bottom-color: var(--fill-color);\n",
              "    }\n",
              "  }\n",
              "</style>\n",
              "\n",
              "  <script>\n",
              "    async function quickchart(key) {\n",
              "      const quickchartButtonEl =\n",
              "        document.querySelector('#' + key + ' button');\n",
              "      quickchartButtonEl.disabled = true;  // To prevent multiple clicks.\n",
              "      quickchartButtonEl.classList.add('colab-df-spinner');\n",
              "      try {\n",
              "        const charts = await google.colab.kernel.invokeFunction(\n",
              "            'suggestCharts', [key], {});\n",
              "      } catch (error) {\n",
              "        console.error('Error during call to suggestCharts:', error);\n",
              "      }\n",
              "      quickchartButtonEl.classList.remove('colab-df-spinner');\n",
              "      quickchartButtonEl.classList.add('colab-df-quickchart-complete');\n",
              "    }\n",
              "    (() => {\n",
              "      let quickchartButtonEl =\n",
              "        document.querySelector('#df-f8baa6b2-38de-4b45-a65f-dc36c0387f8c button');\n",
              "      quickchartButtonEl.style.display =\n",
              "        google.colab.kernel.accessAllowed ? 'block' : 'none';\n",
              "    })();\n",
              "  </script>\n",
              "</div>\n",
              "\n",
              "    </div>\n",
              "  </div>\n"
            ],
            "application/vnd.google.colaboratory.intrinsic+json": {
              "type": "dataframe",
              "variable_name": "df_quant",
              "summary": "{\n  \"name\": \"df_quant\",\n  \"rows\": 97406,\n  \"fields\": [\n    {\n      \"column\": \"Date/Time\",\n      \"properties\": {\n        \"dtype\": \"object\",\n        \"num_unique_values\": 97406,\n        \"samples\": [\n          \"9/16/2020 13:28\",\n          \"1/10/2020 10:36\",\n          \"6/24/2020 10:41\"\n        ],\n        \"semantic_type\": \"\",\n        \"description\": \"\"\n      }\n    },\n    {\n      \"column\": \"Close\",\n      \"properties\": {\n        \"dtype\": \"number\",\n        \"std\": 6.359798823149514,\n        \"min\": 30.25,\n        \"max\": 58.4,\n        \"num_unique_values\": 802,\n        \"samples\": [\n          37.75,\n          41.33,\n          36.67\n        ],\n        \"semantic_type\": \"\",\n        \"description\": \"\"\n      }\n    }\n  ]\n}"
            }
          },
          "metadata": {},
          "execution_count": 109
        }
      ]
    },
    {
      "cell_type": "code",
      "source": [
        "np_quant = df_quant.to_numpy() # Chuyển cột Close thành dạng numpy để tiến hành tạo input và output\n",
        "X = []\n",
        "y = []\n",
        "for i in range(len(np_quant) - 30): # Sử dụng mô hình LSTM và sẽ lấy 30 giá trị liên tiếp để dự đoán giá trị thứ 31\n",
        "    x_row = [a for a in np_quant[i:i+30]]\n",
        "    label = np_quant[i+30]\n",
        "    X.append(x_row)\n",
        "    y.append(label)\n",
        "X = np.array(X).reshape(len(X), -1)\n",
        "y = np.array(y).reshape(len(y), -1)\n",
        "print(X.shape)\n",
        "print(y.shape)"
      ],
      "metadata": {
        "colab": {
          "base_uri": "https://localhost:8080/"
        },
        "id": "_7ux8NtDkOts",
        "outputId": "75a94b3e-51f6-4fe9-cd38-48204c10286c"
      },
      "execution_count": null,
      "outputs": [
        {
          "output_type": "stream",
          "name": "stdout",
          "text": [
            "(97376, 30)\n",
            "(97376, 1)\n"
          ]
        }
      ]
    },
    {
      "cell_type": "code",
      "source": [
        "#Chuẩn hóa dữ liệu cho mô hình train nhanh và chính xác hơn\n",
        "x_scaler = preprocessing.MinMaxScaler()\n",
        "y_scaler = preprocessing.MinMaxScaler()\n",
        "\n",
        "x_scaled = x_scaler.fit_transform(X)\n",
        "y_scaled = y_scaler.fit_transform(y)"
      ],
      "metadata": {
        "id": "lpuehFWagTjC"
      },
      "execution_count": null,
      "outputs": []
    },
    {
      "cell_type": "code",
      "source": [
        "x_scaled.shape"
      ],
      "metadata": {
        "colab": {
          "base_uri": "https://localhost:8080/"
        },
        "id": "xdtMqeLqjSVF",
        "outputId": "85d251e3-0029-45b8-c8b2-10edd05403eb"
      },
      "execution_count": null,
      "outputs": [
        {
          "output_type": "execute_result",
          "data": {
            "text/plain": [
              "(97376, 30)"
            ]
          },
          "metadata": {},
          "execution_count": 82
        }
      ]
    },
    {
      "cell_type": "code",
      "source": [
        "# Tiến hành chia input và output thành 3 tập data train / validation / test\n",
        "train_size = int(len(x_scaled) * 0.6) #Vì khối lượng dữ liệu khá nhiều ~100.000 nên em chia theo tỉ lệ 6:2:2\n",
        "test_size = int(len(y_scaled) * 0.2)\n",
        "x_train, y_train = np.array(x_scaled[:train_size]), np.array(y_scaled[:train_size])\n",
        "x_val, y_val = np.array(x_scaled[train_size:len(x_scaled) - test_size]), np.array(y_scaled[train_size:len(y_scaled) - test_size])\n",
        "x_test, y_test = np.array(x_scaled[train_size + test_size:]), np.array(y_scaled[train_size + test_size:])"
      ],
      "metadata": {
        "id": "4v5kS-N-6HfN"
      },
      "execution_count": null,
      "outputs": []
    },
    {
      "cell_type": "code",
      "source": [
        "print(x_train.shape)\n",
        "print(x_test.shape)\n",
        "print(x_val.shape)\n",
        "print(y_train.shape)\n",
        "print(y_test.shape)\n",
        "print(y_val.shape)"
      ],
      "metadata": {
        "colab": {
          "base_uri": "https://localhost:8080/"
        },
        "id": "KohnYG6ADA2c",
        "outputId": "c0902245-55b3-4736-da4e-ef8968b6d495"
      },
      "execution_count": null,
      "outputs": [
        {
          "output_type": "stream",
          "name": "stdout",
          "text": [
            "(58227, 30)\n",
            "(19740, 30)\n",
            "(19740, 30)\n",
            "(58227, 1)\n",
            "(19740, 1)\n",
            "(19740, 1)\n"
          ]
        }
      ]
    },
    {
      "cell_type": "markdown",
      "source": [
        "# ***2. Model constructing and training ***"
      ],
      "metadata": {
        "id": "MG0PjVp9QBS-"
      }
    },
    {
      "cell_type": "code",
      "source": [
        "model = Sequential()\n",
        "#Xây dựng mô hình LSTM đơn giản với 3 layers LSTM\n",
        "model.add(LSTM(units=64, return_sequences=True, input_shape=(x_train.shape[1], 1)))\n",
        "model.add(Dropout(0.2))\n",
        "model.add(LSTM(units=64, return_sequences=True))\n",
        "model.add(Dropout(0.2))\n",
        "model.add(LSTM(units=64))\n",
        "model.add(Dropout(0.2))\n",
        "model.add(Dense(units=1))\n"
      ],
      "metadata": {
        "id": "cVGK7vrlfiqn"
      },
      "execution_count": null,
      "outputs": []
    },
    {
      "cell_type": "code",
      "source": [
        "model.summary()"
      ],
      "metadata": {
        "colab": {
          "base_uri": "https://localhost:8080/"
        },
        "id": "CKY5XoSj3BAl",
        "outputId": "c9c35100-dabc-4222-f783-25d76d29897b"
      },
      "execution_count": null,
      "outputs": [
        {
          "output_type": "stream",
          "name": "stdout",
          "text": [
            "Model: \"sequential_1\"\n",
            "_________________________________________________________________\n",
            " Layer (type)                Output Shape              Param #   \n",
            "=================================================================\n",
            " lstm_3 (LSTM)               (None, 30, 64)            16896     \n",
            "                                                                 \n",
            " dropout_3 (Dropout)         (None, 30, 64)            0         \n",
            "                                                                 \n",
            " lstm_4 (LSTM)               (None, 30, 60)            30000     \n",
            "                                                                 \n",
            " dropout_4 (Dropout)         (None, 30, 60)            0         \n",
            "                                                                 \n",
            " lstm_5 (LSTM)               (None, 64)                32000     \n",
            "                                                                 \n",
            " dropout_5 (Dropout)         (None, 64)                0         \n",
            "                                                                 \n",
            " dense_1 (Dense)             (None, 1)                 65        \n",
            "                                                                 \n",
            "=================================================================\n",
            "Total params: 78961 (308.44 KB)\n",
            "Trainable params: 78961 (308.44 KB)\n",
            "Non-trainable params: 0 (0.00 Byte)\n",
            "_________________________________________________________________\n"
          ]
        }
      ]
    },
    {
      "cell_type": "code",
      "source": [
        "callback = keras.callbacks.EarlyStopping(monitor='loss', min_delta = 0.01) # EarlyStopping\n",
        "model.compile(optimizer='adam', loss='mean_squared_error', metrics=[keras.metrics.RootMeanSquaredError()])\n",
        "model.fit(x_train, y_train, epochs=10, batch_size=128, callbacks=[callback], validation_data=(x_val, y_val)) #Fit model với tập train và val"
      ],
      "metadata": {
        "colab": {
          "base_uri": "https://localhost:8080/"
        },
        "id": "AAO2aCXfnyqb",
        "outputId": "f8560eb2-8f68-4bf1-b9d9-5bfd07a2d459"
      },
      "execution_count": null,
      "outputs": [
        {
          "output_type": "stream",
          "name": "stdout",
          "text": [
            "Epoch 1/10\n",
            "455/455 [==============================] - 82s 167ms/step - loss: 0.0036 - root_mean_squared_error: 0.0600 - val_loss: 2.2076e-04 - val_root_mean_squared_error: 0.0149\n",
            "Epoch 2/10\n",
            "455/455 [==============================] - 75s 164ms/step - loss: 0.0010 - root_mean_squared_error: 0.0321 - val_loss: 6.4286e-05 - val_root_mean_squared_error: 0.0080\n"
          ]
        },
        {
          "output_type": "execute_result",
          "data": {
            "text/plain": [
              "<keras.src.callbacks.History at 0x7cc045686020>"
            ]
          },
          "metadata": {},
          "execution_count": 93
        }
      ]
    },
    {
      "cell_type": "code",
      "source": [
        "model.save(\"/content/drive/MyDrive/QuantPredict/best.h5\")  # Lưu model"
      ],
      "metadata": {
        "colab": {
          "base_uri": "https://localhost:8080/"
        },
        "id": "hy_vfukZoUXe",
        "outputId": "074ad59b-ff64-4947-dfe9-e5b872f8eccd"
      },
      "execution_count": null,
      "outputs": [
        {
          "output_type": "stream",
          "name": "stderr",
          "text": [
            "/usr/local/lib/python3.10/dist-packages/keras/src/engine/training.py:3103: UserWarning: You are saving your model as an HDF5 file via `model.save()`. This file format is considered legacy. We recommend using instead the native Keras format, e.g. `model.save('my_model.keras')`.\n",
            "  saving_api.save_model(\n"
          ]
        }
      ]
    },
    {
      "cell_type": "code",
      "source": [
        "loaded_model = keras.models.load_model(\"/content/drive/MyDrive/QuantPredict/best.h5\") # load model đã lưu trước đó để sử dụng"
      ],
      "metadata": {
        "id": "3xS-71HHuZeI"
      },
      "execution_count": null,
      "outputs": []
    },
    {
      "cell_type": "markdown",
      "source": [
        "# **3. Evaluating**"
      ],
      "metadata": {
        "id": "7p6L9U7XVg2s"
      }
    },
    {
      "cell_type": "code",
      "source": [
        "predict = loaded_model.predict(x_test) # Tiến hành dự đoán trên tập X_test\n",
        "predict = y_scaler.inverse_transform(predict)"
      ],
      "metadata": {
        "colab": {
          "base_uri": "https://localhost:8080/"
        },
        "id": "VdQYm5ZPs87P",
        "outputId": "8c5cc00d-f673-420c-89d1-8d68c61f5df2"
      },
      "execution_count": null,
      "outputs": [
        {
          "output_type": "stream",
          "name": "stdout",
          "text": [
            "617/617 [==============================] - 10s 15ms/step\n"
          ]
        }
      ]
    },
    {
      "cell_type": "code",
      "source": [
        "rmse = np.sqrt(mean_squared_error(y_test, predict))  # Đánh giá RMSE của giá trị predict và thực tế\n",
        "rmse"
      ],
      "metadata": {
        "colab": {
          "base_uri": "https://localhost:8080/"
        },
        "id": "kbq0iFGJvAHc",
        "outputId": "ba56d42e-145c-4e97-93dd-62e326c9d274"
      },
      "execution_count": null,
      "outputs": [
        {
          "output_type": "execute_result",
          "data": {
            "text/plain": [
              "51.46575573354591"
            ]
          },
          "metadata": {},
          "execution_count": 97
        }
      ]
    },
    {
      "cell_type": "code",
      "source": [
        "#Plot giá trị dự đoán và giá trị thực tế ra đồ thị cho trực quan về dễ đánh giá\n",
        "y_true = np.array(df_quant[len(df_quant)-test_size:].values)\n",
        "\n",
        "plt.plot(y_true, color=\"red\", label=\"True Close Value\")\n",
        "plt.plot(predict, color=\"blue\", label=\"Predicted Close Value\")\n",
        "plt.title(\"Close value\")\n",
        "plt.xlabel(\"Time\")\n",
        "plt.ylabel(\"Close value\")\n",
        "plt.ylim(bottom=0)\n",
        "plt.legend()\n",
        "plt.show()"
      ],
      "metadata": {
        "colab": {
          "base_uri": "https://localhost:8080/",
          "height": 472
        },
        "id": "DJzvA9O_zSqC",
        "outputId": "a3f3c687-3303-44df-acf3-da0794b8195c"
      },
      "execution_count": null,
      "outputs": [
        {
          "output_type": "display_data",
          "data": {
            "text/plain": [
              "<Figure size 640x480 with 1 Axes>"
            ],
            "image/png": "[encoded data removed]"
          },
          "metadata": {}
        }
      ]
    },
    {
      "cell_type": "markdown",
      "source": [
        "# **4. Calculating stock price fluctuation**\n"
      ],
      "metadata": {
        "id": "EMahdLXHVpNE"
      }
    },
    {
      "cell_type": "code",
      "source": [
        "#Tính thời gian bắt đầu và kết thúc trong 1 ngày của sàn giao dịch\n",
        "open_time = pd.to_datetime(df_quant.index).time.min()\n",
        "close_time = pd.to_datetime(df_quant.index).time.max()\n",
        "print(open_time)\n",
        "print(close_time)"
      ],
      "metadata": {
        "colab": {
          "base_uri": "https://localhost:8080/"
        },
        "id": "RrecdquP774J",
        "outputId": "5602dd25-dc2d-4704-b4f3-880e3af5540e"
      },
      "execution_count": null,
      "outputs": [
        {
          "output_type": "stream",
          "name": "stdout",
          "text": [
            "09:15:00\n",
            "14:46:00\n"
          ]
        }
      ]
    },
    {
      "cell_type": "code",
      "source": [
        "# Hàm chuẩn bị dữ liệu cho dự đoán\n",
        "\n",
        "def create_custom_time_index(start_date, end_date): #Vì thời gian chỉ chạy trong khoảng 9:15 -> 14:46\n",
        "    full_time_index = pd.DatetimeIndex([])\n",
        "\n",
        "    # Tạo chuỗi thời gian cho mỗi ngày\n",
        "    for single_date in pd.date_range(start=start_date.date(), end=end_date):\n",
        "        start_datetime = pd.to_datetime(f\"{single_date.date()} {'09:15'}\")\n",
        "        end_datetime = pd.to_datetime(f\"{single_date.date()} {'14:46'}\")\n",
        "        time_range = pd.date_range(start=start_datetime, end=end_datetime, freq='T')\n",
        "        filtered_time_range = time_range[(time_range > pd.to_datetime(start_date)) & (time_range <= pd.to_datetime(end_date))]\n",
        "        full_time_index = full_time_index.append(filtered_time_range)\n",
        "\n",
        "    return full_time_index\n",
        "\n",
        "def prepare_data(data, n_steps=30):\n",
        "    scaler = preprocessing.MinMaxScaler(feature_range=(0, 1))\n",
        "    data_scaled = scaler.fit_transform(data)\n",
        "    data_scaled = data_scaled.reshape(-1, len(data_scaled))\n",
        "    return data_scaled, scaler\n",
        "\n",
        "# Dự đoán liên tiếp\n",
        "def predict_future(input_end_date, df, model=None, nstep=30, filename=None):\n",
        "    lastN = df.to_numpy()[-nstep:] # N kết quả cuối cùng của dữ liệu\n",
        "    last_date = pd.to_datetime(lastN[-1][0]) #Mốc thời gian cuối cùng của dữ liệu\n",
        "    full_time_index = create_custom_time_index(last_date,\n",
        "                                           input_end_date)\n",
        "    if str(input_end_date) in df['Date/Time'].values:\n",
        "        return df[df['Date/Time'] == str(input_end_date)]['Close'].values[0]\n",
        "    for date in full_time_index:\n",
        "        data = lastN[-nstep:, 1].reshape(nstep, -1)\n",
        "        X, scaler = prepare_data(data, nstep)\n",
        "        predictions = []\n",
        "        prediction = model.predict(X)\n",
        "        prediction = scaler.inverse_transform(prediction).flatten()\n",
        "        lastN = np.vstack([lastN, np.array([date, prediction[0]])])\n",
        "    # Lưu dữ liệu dự đoán được vào file csv để lần sau không cần dự đoán lại những khoảng thời gian này nữa\n",
        "    new_df = pd.DataFrame(lastN, columns=['Date/Time', 'Close'])\n",
        "    new_df['Date/Time'] = pd.to_datetime(new_df['Date/Time'])\n",
        "    df = pd.concat([df, new_df[nstep:]], ignore_index=True)\n",
        "    df.to_csv(os.path.join('/content/drive/MyDrive/QuantPredict', filename+'.csv'), index=False)\n",
        "    return prediction"
      ],
      "metadata": {
        "id": "PqyddtI5ymsI"
      },
      "execution_count": null,
      "outputs": []
    },
    {
      "cell_type": "code",
      "source": [
        "from datetime import datetime #Hàm nhập input theo format\n",
        "\n",
        "def datetime_format_input(mes):\n",
        "  while True:\n",
        "    try:\n",
        "        input_str = input(mes)\n",
        "\n",
        "        datetime_format = \"%m/%d/%Y %H:%M\"\n",
        "\n",
        "        dt = datetime.strptime(input_str, datetime_format)\n",
        "\n",
        "        return dt\n",
        "    except ValueError:\n",
        "        print(f\"Input của bạn '{input_str}' không đúng với format hoặc là thời \\\n",
        "gian không tồn tại (MM/DD/YYYY HH\\:MM), mời nhập lại \\n Ví dụ (03/12/2021)\")\n"
      ],
      "metadata": {
        "id": "psfnZIWL1qhY"
      },
      "execution_count": null,
      "outputs": []
    },
    {
      "cell_type": "code",
      "source": [
        "# Đọc dữ liệu\n",
        "predict_df = pd.read_csv('/content/drive/MyDrive/QuantPredict/predict.csv')\n",
        "# Xác định ngày bắt đầu và ngày kết thúc nhập vào\n",
        "while True:\n",
        "    try:\n",
        "        input_today_date = datetime_format_input(\"Nhập thời gian đầu tiên bạn muốn tính giá chứng khoán (MM/DD/YYYY HH:MM): \")\n",
        "        input_end_date = datetime_format_input(\"Nhập thời gian thứ hai bạn muốn tính giá chứng khoán (MM/DD/YYYY HH:MM): \")\n",
        "        if input_today_date > input_end_date:\n",
        "            raise Exception(\"Thời gian thứ hai phải lớn hơn thời gian ban đầu\")\n",
        "        else:\n",
        "          break\n",
        "    except:\n",
        "        print(\"Nhập lại. Thời gian thứ hai phải lớn hơn thời gian ban đầu\")\n",
        "loaded_model = keras.models.load_model(\"/content/drive/MyDrive/QuantPredict/best.h5\")\n",
        "today_predict = predict_future(input_today_date, predict_df, loaded_model, nstep=30, filename='predict')\n",
        "end_date_predict = predict_future(input_end_date, predict_df, loaded_model, nstep=30, filename='predict')\n",
        "print(\"Giá cổ phiếu N là: \", today_predict)\n",
        "print(\"Giá cổ phiếu hiện tại là: \", end_date_predict)\n",
        "print(\"Biến động giá cổ phiếu = giá cổ phiếu N - Giá cổ phiếu hiện tại = \", end_date_predict - today_predict)\n",
        "#12/23/2020 10:05"
      ],
      "metadata": {
        "colab": {
          "base_uri": "https://localhost:8080/"
        },
        "id": "V2ND31R8Gm06",
        "outputId": "0c12c378-b38a-448f-c83b-e15cc72d7e8f"
      },
      "execution_count": null,
      "outputs": [
        {
          "output_type": "stream",
          "name": "stdout",
          "text": [
            "Nhập thời gian đầu tiên bạn muốn tính giá chứng khoán (MM/DD/YYYY HH:MM): 12/23/2020 13:00\n",
            "Nhập thời gian thứ hai bạn muốn tính giá chứng khoán (MM/DD/YYYY HH:MM): 12/23/2020 13:20\n",
            "[['2020-12-23 12:21:00' 58.149815]\n",
            " ['2020-12-23 12:22:00' 58.149815]\n",
            " ['2020-12-23 12:23:00' 58.149815]\n",
            " ['2020-12-23 12:24:00' 58.149815]\n",
            " ['2020-12-23 12:25:00' 58.149815]\n",
            " ['2020-12-23 12:26:00' 58.149815]\n",
            " ['2020-12-23 12:27:00' 58.149815]\n",
            " ['2020-12-23 12:28:00' 58.149815]\n",
            " ['2020-12-23 12:29:00' 58.149815]\n",
            " ['2020-12-23 12:30:00' 58.149815]\n",
            " ['2020-12-23 12:31:00' 58.149815]\n",
            " ['2020-12-23 12:32:00' 58.149815]\n",
            " ['2020-12-23 12:33:00' 58.149815]\n",
            " ['2020-12-23 12:34:00' 58.149815]\n",
            " ['2020-12-23 12:35:00' 58.149815]\n",
            " ['2020-12-23 12:36:00' 58.149815]\n",
            " ['2020-12-23 12:37:00' 58.149815]\n",
            " ['2020-12-23 12:38:00' 58.149815]\n",
            " ['2020-12-23 12:39:00' 58.149815]\n",
            " ['2020-12-23 12:40:00' 58.149815]\n",
            " ['2020-12-23 12:41:00' 58.14981]\n",
            " ['2020-12-23 12:42:00' 58.14981]\n",
            " ['2020-12-23 12:43:00' 58.149815]\n",
            " ['2020-12-23 12:44:00' 58.14981]\n",
            " ['2020-12-23 12:45:00' 58.149815]\n",
            " ['2020-12-23 12:46:00' 58.14982]\n",
            " ['2020-12-23 12:47:00' 58.149815]\n",
            " ['2020-12-23 12:48:00' 58.149815]\n",
            " ['2020-12-23 12:49:00' 58.14982]\n",
            " ['2020-12-23 12:50:00' 58.149815]]\n",
            "2020-12-23 12:50:00\n",
            "DatetimeIndex(['2020-12-23 12:51:00', '2020-12-23 12:52:00',\n",
            "               '2020-12-23 12:53:00', '2020-12-23 12:54:00',\n",
            "               '2020-12-23 12:55:00', '2020-12-23 12:56:00',\n",
            "               '2020-12-23 12:57:00', '2020-12-23 12:58:00',\n",
            "               '2020-12-23 12:59:00', '2020-12-23 13:00:00'],\n",
            "              dtype='datetime64[ns]', freq='T')\n",
            "2020-12-23 12:51:00\n",
            "1/1 [==============================] - 1s 1s/step\n",
            "2020-12-23 12:52:00\n",
            "1/1 [==============================] - 0s 23ms/step\n",
            "2020-12-23 12:53:00\n",
            "1/1 [==============================] - 0s 23ms/step\n",
            "2020-12-23 12:54:00\n",
            "1/1 [==============================] - 0s 24ms/step\n",
            "2020-12-23 12:55:00\n",
            "1/1 [==============================] - 0s 38ms/step\n",
            "2020-12-23 12:56:00\n",
            "1/1 [==============================] - 0s 23ms/step\n",
            "2020-12-23 12:57:00\n",
            "1/1 [==============================] - 0s 23ms/step\n",
            "2020-12-23 12:58:00\n",
            "1/1 [==============================] - 0s 28ms/step\n",
            "2020-12-23 12:59:00\n",
            "1/1 [==============================] - 0s 21ms/step\n",
            "2020-12-23 13:00:00\n",
            "1/1 [==============================] - 0s 24ms/step\n",
            "[['2020-12-23 12:21:00' 58.149815]\n",
            " ['2020-12-23 12:22:00' 58.149815]\n",
            " ['2020-12-23 12:23:00' 58.149815]\n",
            " ['2020-12-23 12:24:00' 58.149815]\n",
            " ['2020-12-23 12:25:00' 58.149815]\n",
            " ['2020-12-23 12:26:00' 58.149815]\n",
            " ['2020-12-23 12:27:00' 58.149815]\n",
            " ['2020-12-23 12:28:00' 58.149815]\n",
            " ['2020-12-23 12:29:00' 58.149815]\n",
            " ['2020-12-23 12:30:00' 58.149815]\n",
            " ['2020-12-23 12:31:00' 58.149815]\n",
            " ['2020-12-23 12:32:00' 58.149815]\n",
            " ['2020-12-23 12:33:00' 58.149815]\n",
            " ['2020-12-23 12:34:00' 58.149815]\n",
            " ['2020-12-23 12:35:00' 58.149815]\n",
            " ['2020-12-23 12:36:00' 58.149815]\n",
            " ['2020-12-23 12:37:00' 58.149815]\n",
            " ['2020-12-23 12:38:00' 58.149815]\n",
            " ['2020-12-23 12:39:00' 58.149815]\n",
            " ['2020-12-23 12:40:00' 58.149815]\n",
            " ['2020-12-23 12:41:00' 58.14981]\n",
            " ['2020-12-23 12:42:00' 58.14981]\n",
            " ['2020-12-23 12:43:00' 58.149815]\n",
            " ['2020-12-23 12:44:00' 58.14981]\n",
            " ['2020-12-23 12:45:00' 58.149815]\n",
            " ['2020-12-23 12:46:00' 58.14982]\n",
            " ['2020-12-23 12:47:00' 58.149815]\n",
            " ['2020-12-23 12:48:00' 58.149815]\n",
            " ['2020-12-23 12:49:00' 58.14982]\n",
            " ['2020-12-23 12:50:00' 58.149815]]\n",
            "2020-12-23 12:50:00\n",
            "DatetimeIndex(['2020-12-23 12:51:00', '2020-12-23 12:52:00',\n",
            "               '2020-12-23 12:53:00', '2020-12-23 12:54:00',\n",
            "               '2020-12-23 12:55:00', '2020-12-23 12:56:00',\n",
            "               '2020-12-23 12:57:00', '2020-12-23 12:58:00',\n",
            "               '2020-12-23 12:59:00', '2020-12-23 13:00:00',\n",
            "               '2020-12-23 13:01:00', '2020-12-23 13:02:00',\n",
            "               '2020-12-23 13:03:00', '2020-12-23 13:04:00',\n",
            "               '2020-12-23 13:05:00', '2020-12-23 13:06:00',\n",
            "               '2020-12-23 13:07:00', '2020-12-23 13:08:00',\n",
            "               '2020-12-23 13:09:00', '2020-12-23 13:10:00',\n",
            "               '2020-12-23 13:11:00', '2020-12-23 13:12:00',\n",
            "               '2020-12-23 13:13:00', '2020-12-23 13:14:00',\n",
            "               '2020-12-23 13:15:00', '2020-12-23 13:16:00',\n",
            "               '2020-12-23 13:17:00', '2020-12-23 13:18:00',\n",
            "               '2020-12-23 13:19:00', '2020-12-23 13:20:00'],\n",
            "              dtype='datetime64[ns]', freq='T')\n",
            "2020-12-23 12:51:00\n",
            "1/1 [==============================] - 0s 23ms/step\n",
            "2020-12-23 12:52:00\n",
            "1/1 [==============================] - 0s 24ms/step\n",
            "2020-12-23 12:53:00\n",
            "1/1 [==============================] - 0s 23ms/step\n",
            "2020-12-23 12:54:00\n",
            "1/1 [==============================] - 0s 22ms/step\n",
            "2020-12-23 12:55:00\n",
            "1/1 [==============================] - 0s 22ms/step\n",
            "2020-12-23 12:56:00\n",
            "1/1 [==============================] - 0s 35ms/step\n",
            "2020-12-23 12:57:00\n",
            "1/1 [==============================] - 0s 22ms/step\n",
            "2020-12-23 12:58:00\n",
            "1/1 [==============================] - 0s 28ms/step\n",
            "2020-12-23 12:59:00\n",
            "1/1 [==============================] - 0s 28ms/step\n",
            "2020-12-23 13:00:00\n",
            "1/1 [==============================] - 0s 22ms/step\n",
            "2020-12-23 13:01:00\n",
            "1/1 [==============================] - 0s 22ms/step\n",
            "2020-12-23 13:02:00\n",
            "1/1 [==============================] - 0s 24ms/step\n",
            "2020-12-23 13:03:00\n",
            "1/1 [==============================] - 0s 23ms/step\n",
            "2020-12-23 13:04:00\n",
            "1/1 [==============================] - 0s 24ms/step\n",
            "2020-12-23 13:05:00\n",
            "1/1 [==============================] - 0s 23ms/step\n",
            "2020-12-23 13:06:00\n",
            "1/1 [==============================] - 0s 23ms/step\n",
            "2020-12-23 13:07:00\n",
            "1/1 [==============================] - 0s 24ms/step\n",
            "2020-12-23 13:08:00\n",
            "1/1 [==============================] - 0s 24ms/step\n",
            "2020-12-23 13:09:00\n",
            "1/1 [==============================] - 0s 32ms/step\n",
            "2020-12-23 13:10:00\n",
            "1/1 [==============================] - 0s 23ms/step\n",
            "2020-12-23 13:11:00\n",
            "1/1 [==============================] - 0s 29ms/step\n",
            "2020-12-23 13:12:00\n",
            "1/1 [==============================] - 0s 29ms/step\n",
            "2020-12-23 13:13:00\n",
            "1/1 [==============================] - 0s 25ms/step\n",
            "2020-12-23 13:14:00\n",
            "1/1 [==============================] - 0s 24ms/step\n",
            "2020-12-23 13:15:00\n",
            "1/1 [==============================] - 0s 23ms/step\n",
            "2020-12-23 13:16:00\n",
            "1/1 [==============================] - 0s 23ms/step\n",
            "2020-12-23 13:17:00\n",
            "1/1 [==============================] - 0s 23ms/step\n",
            "2020-12-23 13:18:00\n",
            "1/1 [==============================] - 0s 22ms/step\n",
            "2020-12-23 13:19:00\n",
            "1/1 [==============================] - 0s 22ms/step\n",
            "2020-12-23 13:20:00\n",
            "1/1 [==============================] - 0s 27ms/step\n",
            "Giá cổ phiếu N là:  [58.149815]\n",
            "Giá cổ phiếu hiện tại là:  [58.149815]\n",
            "Biến động giá cổ phiếu = giá cổ phiếu N - Giá cổ phiếu hiện tại =  [0.]\n"
          ]
        }
      ]
    }
  ]
}